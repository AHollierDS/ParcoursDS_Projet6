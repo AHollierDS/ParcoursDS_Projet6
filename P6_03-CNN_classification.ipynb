{
  "nbformat": 4,
  "nbformat_minor": 0,
  "metadata": {
    "kernelspec": {
      "display_name": "Python 3",
      "language": "python",
      "name": "python3"
    },
    "language_info": {
      "codemirror_mode": {
        "name": "ipython",
        "version": 3
      },
      "file_extension": ".py",
      "mimetype": "text/x-python",
      "name": "python",
      "nbconvert_exporter": "python",
      "pygments_lexer": "ipython3",
      "version": "3.7.3"
    },
    "toc-autonumbering": true,
    "toc-showcode": false,
    "toc-showmarkdowntxt": false,
    "toc-showtags": false,
    "colab": {
      "name": "P6_03-CNN_classification.ipynb",
      "provenance": [],
      "collapsed_sections": [],
      "toc_visible": true
    },
    "accelerator": "GPU"
  },
  "cells": [
    {
      "cell_type": "markdown",
      "metadata": {
        "id": "jujTcczii0fm",
        "colab_type": "text"
      },
      "source": [
        "# Preparing working environnment"
      ]
    },
    {
      "cell_type": "code",
      "metadata": {
        "id": "1ditncPki0fp",
        "colab_type": "code",
        "colab": {
          "base_uri": "https://localhost:8080/",
          "height": 34
        },
        "outputId": "26c0e4f6-a4c5-4c3f-b7ea-cc7e12c8df6a"
      },
      "source": [
        "import pandas as pd\n",
        "import numpy as np\n",
        "import matplotlib.pyplot as plt\n",
        "\n",
        "from google.colab import drive\n",
        "drive.mount('/content/drive')"
      ],
      "execution_count": 8,
      "outputs": [
        {
          "output_type": "stream",
          "text": [
            "Drive already mounted at /content/drive; to attempt to forcibly remount, call drive.mount(\"/content/drive\", force_remount=True).\n"
          ],
          "name": "stdout"
        }
      ]
    },
    {
      "cell_type": "code",
      "metadata": {
        "id": "YpBFvzXti0f0",
        "colab_type": "code",
        "colab": {}
      },
      "source": [
        "# Import dataset\n",
        "data = pd.read_csv('/content/drive/My Drive/DS_projet6/flipkart_com-ecommerce_sample_1050.csv')\n",
        "data = data[['uniq_id', 'product_category_tree', 'image']]\n",
        "\n",
        "# Retrieving categories\n",
        "df_categ = data['product_category_tree'].str.split(pat = '>>', expand = True)\n",
        "df_categ[0] = df_categ[0].apply(lambda x: str(x)[2:] if str(x)[:2] == '[\"' else x)\n",
        "\n",
        "for c in np.arange(0,7,1):\n",
        "    df_categ[c] = df_categ[c].apply(lambda x: str(x)[:-2] if str(x)[-2:] == '\"]' else x)\n",
        "    \n",
        "data = data.join(df_categ.iloc[:,:2])\n",
        "data.rename(columns = {0 : 'category', 1 : 'subcategory'}, inplace = True)\n",
        "data.drop(columns = 'product_category_tree', inplace = True)"
      ],
      "execution_count": 9,
      "outputs": []
    },
    {
      "cell_type": "markdown",
      "metadata": {
        "id": "PPNsshU8i0lc",
        "colab_type": "text"
      },
      "source": [
        "# CNN on Black & White images"
      ]
    },
    {
      "cell_type": "markdown",
      "metadata": {
        "id": "bRmkBMOGi0l5",
        "colab_type": "text"
      },
      "source": [
        "### Data preprocessing"
      ]
    },
    {
      "cell_type": "code",
      "metadata": {
        "id": "WCTGY5tmi0lk",
        "colab_type": "code",
        "colab": {}
      },
      "source": [
        "from keras.preprocessing.image import load_img, img_to_array\n",
        "from keras.applications.vgg16 import preprocess_input\n",
        "\n",
        "save_path = '/content/drive/My Drive/DS_projet6/Edited_Images_NB/'\n",
        "\n",
        "# Creating image collection\n",
        "for i in range(len(data)):\n",
        "    img = load_img(save_path + data['image'][i], target_size=(300, 300))\n",
        "    img = img_to_array(img)\n",
        "    \n",
        "    if i == 0:\n",
        "        img_collec = img\n",
        "    else:\n",
        "        img_collec = np.append(img_collec, img)\n",
        "\n",
        "img_collec = img_collec.reshape((len(data), 300, 300, 3))"
      ],
      "execution_count": null,
      "outputs": []
    },
    {
      "cell_type": "code",
      "metadata": {
        "id": "tuIgEhsUi0mD",
        "colab_type": "code",
        "colab": {}
      },
      "source": [
        "# Train - test split\n",
        "from sklearn.model_selection import train_test_split\n",
        "\n",
        "y_ = pd.get_dummies(data['category'])\n",
        "X_train_nb, X_test_nb, y_train_nb, y_test_nb = train_test_split(img_collec, y_, test_size = 0.3)"
      ],
      "execution_count": null,
      "outputs": []
    },
    {
      "cell_type": "markdown",
      "metadata": {
        "id": "QqZFmKDui0mJ",
        "colab_type": "text"
      },
      "source": [
        "### Creating model"
      ]
    },
    {
      "cell_type": "code",
      "metadata": {
        "id": "PmtNVWbBi0mK",
        "colab_type": "code",
        "colab": {
          "base_uri": "https://localhost:8080/",
          "height": 51
        },
        "outputId": "061ee92d-c28d-44cc-91d3-c25fb9c49698"
      },
      "source": [
        "# Creating a new model\n",
        "from keras.applications.vgg16 import VGG16\n",
        "from keras.layers import Dense, Flatten\n",
        "from keras.models import Model\n",
        "from keras import optimizers\n",
        "\n",
        "# Retrieving VGG16 model without fully-connected layers\n",
        "model = VGG16(weights=\"imagenet\", \n",
        "              include_top=False, \n",
        "              input_shape=(300, 300, 3))\n",
        "model.trainable = False\n",
        "\n",
        "# Adding new fully-connected layers\n",
        "x = model.output\n",
        "x = Flatten()(x)\n",
        "#x = Dense(300, activation = 'relu')(x)\n",
        "x = Dense(200, activation = 'relu')(x)\n",
        "x = Dense(100, activation = 'relu')(x)\n",
        "\n",
        "# Predicting with 7 classes\n",
        "pred = Dense(7, activation = 'softmax')(x)\n",
        "new_model = Model(inputs=model.input, outputs=pred)\n",
        "    \n",
        "# Compiling\n",
        "new_model.compile(loss=\"categorical_crossentropy\", \n",
        "                  optimizer='adam', \n",
        "                  metrics=[\"accuracy\"])"
      ],
      "execution_count": null,
      "outputs": [
        {
          "output_type": "stream",
          "text": [
            "Downloading data from https://storage.googleapis.com/tensorflow/keras-applications/vgg16/vgg16_weights_tf_dim_ordering_tf_kernels_notop.h5\n",
            "58892288/58889256 [==============================] - 0s 0us/step\n"
          ],
          "name": "stdout"
        }
      ]
    },
    {
      "cell_type": "code",
      "metadata": {
        "id": "0H0vrQk6i0mW",
        "colab_type": "code",
        "colab": {
          "base_uri": "https://localhost:8080/",
          "height": 714
        },
        "outputId": "1acbfb77-7554-4953-beaa-6352e138c492"
      },
      "source": [
        "# Training model\n",
        "new_model.fit(X_train_nb, y_train_nb, \n",
        "              batch_size = 100, \n",
        "              epochs = 20, \n",
        "              validation_split = 0.2)"
      ],
      "execution_count": 26,
      "outputs": [
        {
          "output_type": "stream",
          "text": [
            "Epoch 1/20\n",
            "6/6 [==============================] - 9s 1s/step - loss: 1.6939 - accuracy: 0.9405 - val_loss: 2.1118 - val_accuracy: 0.9660\n",
            "Epoch 2/20\n",
            "6/6 [==============================] - 9s 1s/step - loss: 0.2789 - accuracy: 0.9796 - val_loss: 2.3737 - val_accuracy: 0.9184\n",
            "Epoch 3/20\n",
            "6/6 [==============================] - 9s 1s/step - loss: 0.1457 - accuracy: 0.9898 - val_loss: 2.4310 - val_accuracy: 0.9184\n",
            "Epoch 4/20\n",
            "6/6 [==============================] - 9s 1s/step - loss: 0.1513 - accuracy: 0.9847 - val_loss: 2.4550 - val_accuracy: 0.9184\n",
            "Epoch 5/20\n",
            "6/6 [==============================] - 9s 1s/step - loss: 0.0221 - accuracy: 0.9949 - val_loss: 2.2076 - val_accuracy: 0.9388\n",
            "Epoch 6/20\n",
            "6/6 [==============================] - 9s 1s/step - loss: 0.0734 - accuracy: 0.9915 - val_loss: 2.0122 - val_accuracy: 0.9320\n",
            "Epoch 7/20\n",
            "6/6 [==============================] - 9s 1s/step - loss: 0.0457 - accuracy: 0.9932 - val_loss: 2.0320 - val_accuracy: 0.9320\n",
            "Epoch 8/20\n",
            "6/6 [==============================] - 9s 1s/step - loss: 0.0395 - accuracy: 0.9983 - val_loss: 2.8058 - val_accuracy: 0.9048\n",
            "Epoch 9/20\n",
            "6/6 [==============================] - 9s 1s/step - loss: 0.0215 - accuracy: 0.9983 - val_loss: 2.6936 - val_accuracy: 0.9116\n",
            "Epoch 10/20\n",
            "6/6 [==============================] - 9s 1s/step - loss: 0.0037 - accuracy: 0.9983 - val_loss: 2.3614 - val_accuracy: 0.9320\n",
            "Epoch 11/20\n",
            "6/6 [==============================] - 9s 1s/step - loss: 0.0013 - accuracy: 0.9983 - val_loss: 2.1428 - val_accuracy: 0.9388\n",
            "Epoch 12/20\n",
            "6/6 [==============================] - 9s 1s/step - loss: 1.5777e-04 - accuracy: 1.0000 - val_loss: 2.0904 - val_accuracy: 0.9388\n",
            "Epoch 13/20\n",
            "6/6 [==============================] - 9s 1s/step - loss: 3.3257e-04 - accuracy: 1.0000 - val_loss: 2.1059 - val_accuracy: 0.9388\n",
            "Epoch 14/20\n",
            "6/6 [==============================] - 9s 1s/step - loss: 2.9072e-07 - accuracy: 1.0000 - val_loss: 2.1233 - val_accuracy: 0.9388\n",
            "Epoch 15/20\n",
            "6/6 [==============================] - 9s 1s/step - loss: 2.4429e-07 - accuracy: 1.0000 - val_loss: 2.1335 - val_accuracy: 0.9320\n",
            "Epoch 16/20\n",
            "6/6 [==============================] - 9s 1s/step - loss: 2.8179e-07 - accuracy: 1.0000 - val_loss: 2.1391 - val_accuracy: 0.9320\n",
            "Epoch 17/20\n",
            "6/6 [==============================] - 9s 1s/step - loss: 3.6287e-07 - accuracy: 1.0000 - val_loss: 2.1421 - val_accuracy: 0.9320\n",
            "Epoch 18/20\n",
            "6/6 [==============================] - 9s 1s/step - loss: 3.9104e-07 - accuracy: 1.0000 - val_loss: 2.1437 - val_accuracy: 0.9320\n",
            "Epoch 19/20\n",
            "6/6 [==============================] - 9s 1s/step - loss: 3.7949e-07 - accuracy: 1.0000 - val_loss: 2.1446 - val_accuracy: 0.9320\n",
            "Epoch 20/20\n",
            "6/6 [==============================] - 9s 1s/step - loss: 3.4462e-07 - accuracy: 1.0000 - val_loss: 2.1450 - val_accuracy: 0.9320\n"
          ],
          "name": "stdout"
        },
        {
          "output_type": "execute_result",
          "data": {
            "text/plain": [
              "<tensorflow.python.keras.callbacks.History at 0x7f256be93d30>"
            ]
          },
          "metadata": {
            "tags": []
          },
          "execution_count": 26
        }
      ]
    },
    {
      "cell_type": "code",
      "metadata": {
        "id": "SHDZJ6_4i0mb",
        "colab_type": "code",
        "colab": {
          "base_uri": "https://localhost:8080/",
          "height": 255
        },
        "outputId": "a939b437-72b9-4fca-da0f-0958755fb762"
      },
      "source": [
        "# Model performance\n",
        "from sklearn.metrics import classification_report\n",
        "y_pred_nb = new_model.predict(X_test_nb)\n",
        "\n",
        "print(classification_report(y_test_nb.values.argmax(axis = 1), y_pred_nb.argmax(axis = 1)))"
      ],
      "execution_count": 27,
      "outputs": [
        {
          "output_type": "stream",
          "text": [
            "              precision    recall  f1-score   support\n",
            "\n",
            "           0       0.98      0.81      0.89        54\n",
            "           1       0.93      0.90      0.92        42\n",
            "           2       0.83      0.97      0.90        40\n",
            "           3       0.83      0.91      0.87        43\n",
            "           4       0.96      0.94      0.95        50\n",
            "           5       0.95      0.95      0.95        42\n",
            "           6       0.98      0.98      0.98        44\n",
            "\n",
            "    accuracy                           0.92       315\n",
            "   macro avg       0.92      0.92      0.92       315\n",
            "weighted avg       0.93      0.92      0.92       315\n",
            "\n"
          ],
          "name": "stdout"
        }
      ]
    },
    {
      "cell_type": "code",
      "metadata": {
        "id": "-mPAHZr2t55N",
        "colab_type": "code",
        "colab": {
          "base_uri": "https://localhost:8080/",
          "height": 409
        },
        "outputId": "d0ec85d5-2fcc-4974-ea65-59018efae1d5"
      },
      "source": [
        "# Plotting scores\n",
        "report = classification_report(y_test_nb.values.argmax(axis = 1),\n",
        "                               y_pred_nb.argmax(axis = 1),\n",
        "                               output_dict = True)\n",
        "\n",
        "df_report = pd.DataFrame(report).iloc[:2,:7]\n",
        "df_report.columns = y_.columns\n",
        "\n",
        "df_report.T.plot(kind = 'bar', figsize = (10,5), rot = 30)\n",
        "plt.title('CNN performance per category', fontweight = 'bold')\n",
        "plt.grid(True)\n",
        "plt.show()"
      ],
      "execution_count": 28,
      "outputs": [
        {
          "output_type": "display_data",
          "data": {
            "image/png": "[encoded data removed]",
            "text/plain": [
              "<Figure size 720x360 with 1 Axes>"
            ]
          },
          "metadata": {
            "tags": [],
            "needs_background": "light"
          }
        }
      ]
    },
    {
      "cell_type": "markdown",
      "metadata": {
        "id": "QK-O40wl4Cov",
        "colab_type": "text"
      },
      "source": [
        "# CNN on RGB images"
      ]
    },
    {
      "cell_type": "code",
      "metadata": {
        "id": "jdDFPFRb384P",
        "colab_type": "code",
        "colab": {}
      },
      "source": [
        "from keras.preprocessing.image import load_img, img_to_array\n",
        "from keras.applications.vgg16 import preprocess_input\n",
        "\n",
        "save_path = '/content/drive/My Drive/DS_projet6/Edited_Images_RGB300/'\n",
        "\n",
        "# Creating image collection\n",
        "for i in range(len(data)):\n",
        "    img = load_img(save_path + data['image'][i], target_size=(300, 300))\n",
        "    img = img_to_array(img)\n",
        "    \n",
        "    if i == 0:\n",
        "        img_collec_rgb = img\n",
        "    else:\n",
        "        img_collec_rgb = np.append(img_collec_rgb, img)\n",
        "\n",
        "img_collec_rgb = img_collec_rgb.reshape((len(data), 300, 300, 3))"
      ],
      "execution_count": 10,
      "outputs": []
    },
    {
      "cell_type": "code",
      "metadata": {
        "id": "n8tyhbUb39AF",
        "colab_type": "code",
        "colab": {}
      },
      "source": [
        "# Train - test split\n",
        "from sklearn.model_selection import train_test_split\n",
        "\n",
        "y_ = pd.get_dummies(data['category'])\n",
        "X_train_rgb, X_test_rgb, y_train_rgb, y_test_rgb = train_test_split(img_collec_rgb, y_, test_size = 0.3)"
      ],
      "execution_count": 18,
      "outputs": []
    },
    {
      "cell_type": "code",
      "metadata": {
        "id": "VI5MRNrh388Q",
        "colab_type": "code",
        "colab": {
          "base_uri": "https://localhost:8080/",
          "height": 714
        },
        "outputId": "d7159765-51eb-4a32-e512-1d365524b195"
      },
      "source": [
        "# Training model\n",
        "new_model.fit(X_train_rgb, y_train_rgb, \n",
        "              batch_size = 100, \n",
        "              epochs = 20, \n",
        "              validation_split = 0.2)"
      ],
      "execution_count": 19,
      "outputs": [
        {
          "output_type": "stream",
          "text": [
            "Epoch 1/20\n",
            "6/6 [==============================] - 9s 1s/step - loss: 4.6281 - accuracy: 0.8878 - val_loss: 5.6781 - val_accuracy: 0.8435\n",
            "Epoch 2/20\n",
            "6/6 [==============================] - 9s 1s/step - loss: 1.2427 - accuracy: 0.9473 - val_loss: 5.2323 - val_accuracy: 0.8776\n",
            "Epoch 3/20\n",
            "6/6 [==============================] - 9s 1s/step - loss: 0.1987 - accuracy: 0.9864 - val_loss: 4.4593 - val_accuracy: 0.8571\n",
            "Epoch 4/20\n",
            "6/6 [==============================] - 9s 1s/step - loss: 0.0763 - accuracy: 0.9898 - val_loss: 4.5001 - val_accuracy: 0.8776\n",
            "Epoch 5/20\n",
            "6/6 [==============================] - 9s 1s/step - loss: 0.0493 - accuracy: 0.9932 - val_loss: 5.5698 - val_accuracy: 0.8776\n",
            "Epoch 6/20\n",
            "6/6 [==============================] - 9s 1s/step - loss: 0.0562 - accuracy: 0.9949 - val_loss: 5.3960 - val_accuracy: 0.8844\n",
            "Epoch 7/20\n",
            "6/6 [==============================] - 9s 1s/step - loss: 8.3182e-04 - accuracy: 1.0000 - val_loss: 6.1465 - val_accuracy: 0.8707\n",
            "Epoch 8/20\n",
            "6/6 [==============================] - 9s 1s/step - loss: 0.0287 - accuracy: 0.9915 - val_loss: 5.6633 - val_accuracy: 0.8707\n",
            "Epoch 9/20\n",
            "6/6 [==============================] - 9s 1s/step - loss: 0.0031 - accuracy: 0.9983 - val_loss: 5.5954 - val_accuracy: 0.8707\n",
            "Epoch 10/20\n",
            "6/6 [==============================] - 9s 1s/step - loss: 6.4424e-07 - accuracy: 1.0000 - val_loss: 5.6194 - val_accuracy: 0.8776\n",
            "Epoch 11/20\n",
            "6/6 [==============================] - 9s 1s/step - loss: 0.0015 - accuracy: 0.9983 - val_loss: 5.4491 - val_accuracy: 0.8844\n",
            "Epoch 12/20\n",
            "6/6 [==============================] - 9s 1s/step - loss: 1.3252e-04 - accuracy: 1.0000 - val_loss: 5.2796 - val_accuracy: 0.8844\n",
            "Epoch 13/20\n",
            "6/6 [==============================] - 9s 1s/step - loss: 4.7440e-08 - accuracy: 1.0000 - val_loss: 5.2411 - val_accuracy: 0.8844\n",
            "Epoch 14/20\n",
            "6/6 [==============================] - 9s 1s/step - loss: 3.1627e-08 - accuracy: 1.0000 - val_loss: 5.2259 - val_accuracy: 0.8912\n",
            "Epoch 15/20\n",
            "6/6 [==============================] - 9s 1s/step - loss: 2.9599e-08 - accuracy: 1.0000 - val_loss: 5.2344 - val_accuracy: 0.8912\n",
            "Epoch 16/20\n",
            "6/6 [==============================] - 9s 1s/step - loss: 2.8586e-08 - accuracy: 1.0000 - val_loss: 5.2442 - val_accuracy: 0.8912\n",
            "Epoch 17/20\n",
            "6/6 [==============================] - 9s 1s/step - loss: 2.8180e-08 - accuracy: 1.0000 - val_loss: 5.2499 - val_accuracy: 0.8912\n",
            "Epoch 18/20\n",
            "6/6 [==============================] - 9s 1s/step - loss: 2.8383e-08 - accuracy: 1.0000 - val_loss: 5.2533 - val_accuracy: 0.8912\n",
            "Epoch 19/20\n",
            "6/6 [==============================] - 9s 1s/step - loss: 2.8180e-08 - accuracy: 1.0000 - val_loss: 5.2551 - val_accuracy: 0.8912\n",
            "Epoch 20/20\n",
            "6/6 [==============================] - 9s 1s/step - loss: 2.7978e-08 - accuracy: 1.0000 - val_loss: 5.2561 - val_accuracy: 0.8912\n"
          ],
          "name": "stdout"
        },
        {
          "output_type": "execute_result",
          "data": {
            "text/plain": [
              "<tensorflow.python.keras.callbacks.History at 0x7f25786a15f8>"
            ]
          },
          "metadata": {
            "tags": []
          },
          "execution_count": 19
        }
      ]
    },
    {
      "cell_type": "code",
      "metadata": {
        "id": "cg-39gQS38n5",
        "colab_type": "code",
        "colab": {
          "base_uri": "https://localhost:8080/",
          "height": 255
        },
        "outputId": "dafc8b03-6f58-4a29-8d8f-dc108658ae7b"
      },
      "source": [
        "# Model performance\n",
        "from sklearn.metrics import classification_report\n",
        "y_pred_rgb = new_model.predict(X_test_rgb)\n",
        "\n",
        "print(classification_report(y_test_rgb.values.argmax(axis = 1), y_pred_rgb.argmax(axis = 1)))"
      ],
      "execution_count": 20,
      "outputs": [
        {
          "output_type": "stream",
          "text": [
            "              precision    recall  f1-score   support\n",
            "\n",
            "           0       0.83      0.87      0.85        39\n",
            "           1       0.95      0.88      0.92        43\n",
            "           2       0.93      0.87      0.90        47\n",
            "           3       0.86      0.84      0.85        45\n",
            "           4       0.91      0.98      0.94        49\n",
            "           5       0.87      0.91      0.89        44\n",
            "           6       0.98      0.96      0.97        48\n",
            "\n",
            "    accuracy                           0.90       315\n",
            "   macro avg       0.90      0.90      0.90       315\n",
            "weighted avg       0.91      0.90      0.90       315\n",
            "\n"
          ],
          "name": "stdout"
        }
      ]
    },
    {
      "cell_type": "code",
      "metadata": {
        "id": "u6shi2ypE0gs",
        "colab_type": "code",
        "colab": {
          "base_uri": "https://localhost:8080/",
          "height": 266
        },
        "outputId": "3f976fb7-150f-42e9-fa91-86c264bf499c"
      },
      "source": [
        "from sklearn.metrics import confusion_matrix\n",
        "pd.DataFrame(\n",
        "    confusion_matrix(\n",
        "        y_test_rgb.values.argmax(axis = 1),\n",
        "        y_pred_rgb.argmax(axis=1)),\n",
        "    index = y_.columns,\n",
        "    columns = y_.columns)"
      ],
      "execution_count": 21,
      "outputs": [
        {
          "output_type": "execute_result",
          "data": {
            "text/html": [
              "<div>\n",
              "<style scoped>\n",
              "    .dataframe tbody tr th:only-of-type {\n",
              "        vertical-align: middle;\n",
              "    }\n",
              "\n",
              "    .dataframe tbody tr th {\n",
              "        vertical-align: top;\n",
              "    }\n",
              "\n",
              "    .dataframe thead th {\n",
              "        text-align: right;\n",
              "    }\n",
              "</style>\n",
              "<table border=\"1\" class=\"dataframe\">\n",
              "  <thead>\n",
              "    <tr style=\"text-align: right;\">\n",
              "      <th></th>\n",
              "      <th>Baby Care</th>\n",
              "      <th>Beauty and Personal Care</th>\n",
              "      <th>Computers</th>\n",
              "      <th>Home Decor &amp; Festive Needs</th>\n",
              "      <th>Home Furnishing</th>\n",
              "      <th>Kitchen &amp; Dining</th>\n",
              "      <th>Watches</th>\n",
              "    </tr>\n",
              "  </thead>\n",
              "  <tbody>\n",
              "    <tr>\n",
              "      <th>Baby Care</th>\n",
              "      <td>34</td>\n",
              "      <td>0</td>\n",
              "      <td>0</td>\n",
              "      <td>3</td>\n",
              "      <td>0</td>\n",
              "      <td>2</td>\n",
              "      <td>0</td>\n",
              "    </tr>\n",
              "    <tr>\n",
              "      <th>Beauty and Personal Care</th>\n",
              "      <td>2</td>\n",
              "      <td>38</td>\n",
              "      <td>1</td>\n",
              "      <td>0</td>\n",
              "      <td>2</td>\n",
              "      <td>0</td>\n",
              "      <td>0</td>\n",
              "    </tr>\n",
              "    <tr>\n",
              "      <th>Computers</th>\n",
              "      <td>0</td>\n",
              "      <td>1</td>\n",
              "      <td>41</td>\n",
              "      <td>3</td>\n",
              "      <td>0</td>\n",
              "      <td>2</td>\n",
              "      <td>0</td>\n",
              "    </tr>\n",
              "    <tr>\n",
              "      <th>Home Decor &amp; Festive Needs</th>\n",
              "      <td>1</td>\n",
              "      <td>0</td>\n",
              "      <td>1</td>\n",
              "      <td>38</td>\n",
              "      <td>2</td>\n",
              "      <td>2</td>\n",
              "      <td>1</td>\n",
              "    </tr>\n",
              "    <tr>\n",
              "      <th>Home Furnishing</th>\n",
              "      <td>1</td>\n",
              "      <td>0</td>\n",
              "      <td>0</td>\n",
              "      <td>0</td>\n",
              "      <td>48</td>\n",
              "      <td>0</td>\n",
              "      <td>0</td>\n",
              "    </tr>\n",
              "    <tr>\n",
              "      <th>Kitchen &amp; Dining</th>\n",
              "      <td>1</td>\n",
              "      <td>1</td>\n",
              "      <td>1</td>\n",
              "      <td>0</td>\n",
              "      <td>1</td>\n",
              "      <td>40</td>\n",
              "      <td>0</td>\n",
              "    </tr>\n",
              "    <tr>\n",
              "      <th>Watches</th>\n",
              "      <td>2</td>\n",
              "      <td>0</td>\n",
              "      <td>0</td>\n",
              "      <td>0</td>\n",
              "      <td>0</td>\n",
              "      <td>0</td>\n",
              "      <td>46</td>\n",
              "    </tr>\n",
              "  </tbody>\n",
              "</table>\n",
              "</div>"
            ],
            "text/plain": [
              "                             Baby Care   ...  Watches \n",
              "Baby Care                            34  ...         0\n",
              "Beauty and Personal Care              2  ...         0\n",
              "Computers                             0  ...         0\n",
              "Home Decor & Festive Needs            1  ...         1\n",
              "Home Furnishing                       1  ...         0\n",
              "Kitchen & Dining                      1  ...         0\n",
              "Watches                               2  ...        46\n",
              "\n",
              "[7 rows x 7 columns]"
            ]
          },
          "metadata": {
            "tags": []
          },
          "execution_count": 21
        }
      ]
    },
    {
      "cell_type": "code",
      "metadata": {
        "id": "aktFPRMq7owI",
        "colab_type": "code",
        "colab": {
          "base_uri": "https://localhost:8080/",
          "height": 409
        },
        "outputId": "d7b06e60-32cd-4053-a85e-b8848eb1eeca"
      },
      "source": [
        "# Plotting scores\n",
        "report = classification_report(y_test_rgb.values.argmax(axis = 1),\n",
        "                               y_pred_rgb.argmax(axis = 1),\n",
        "                               output_dict = True)\n",
        "\n",
        "df_report = pd.DataFrame(report).iloc[:2,:7]\n",
        "df_report.columns = y_.columns\n",
        "\n",
        "df_report.T.plot(kind = 'bar', figsize = (10,5), rot = 30)\n",
        "plt.title('CNN performance per category', fontweight = 'bold')\n",
        "plt.grid(True)\n",
        "plt.show()"
      ],
      "execution_count": 22,
      "outputs": [
        {
          "output_type": "display_data",
          "data": {
            "image/png": "[encoded data removed]",
            "text/plain": [
              "<Figure size 720x360 with 1 Axes>"
            ]
          },
          "metadata": {
            "tags": [],
            "needs_background": "light"
          }
        }
      ]
    },
    {
      "cell_type": "code",
      "metadata": {
        "id": "WZ2l1mvdwoM4",
        "colab_type": "code",
        "colab": {
          "base_uri": "https://localhost:8080/",
          "height": 419
        },
        "outputId": "4166d249-9955-44f8-be92-3a566d6f1fef"
      },
      "source": [
        "# Creating a DataFrame containing probabilities to belong to a given category given an image\n",
        "y_glob_rgb = new_model.predict(img_collec_rgb)\n",
        "\n",
        "df_pred_img = pd.DataFrame(y_glob_rgb,\n",
        "                           columns = ['p(C{}|image)'.format(x) for x in range(7)])\n",
        "\n",
        "df_pred_img['img_prediction'] = y_glob_rgb.argmax(axis=1)\n",
        "df_pred_img"
      ],
      "execution_count": 23,
      "outputs": [
        {
          "output_type": "execute_result",
          "data": {
            "text/html": [
              "<div>\n",
              "<style scoped>\n",
              "    .dataframe tbody tr th:only-of-type {\n",
              "        vertical-align: middle;\n",
              "    }\n",
              "\n",
              "    .dataframe tbody tr th {\n",
              "        vertical-align: top;\n",
              "    }\n",
              "\n",
              "    .dataframe thead th {\n",
              "        text-align: right;\n",
              "    }\n",
              "</style>\n",
              "<table border=\"1\" class=\"dataframe\">\n",
              "  <thead>\n",
              "    <tr style=\"text-align: right;\">\n",
              "      <th></th>\n",
              "      <th>p(C0|image)</th>\n",
              "      <th>p(C1|image)</th>\n",
              "      <th>p(C2|image)</th>\n",
              "      <th>p(C3|image)</th>\n",
              "      <th>p(C4|image)</th>\n",
              "      <th>p(C5|image)</th>\n",
              "      <th>p(C6|image)</th>\n",
              "      <th>img_prediction</th>\n",
              "    </tr>\n",
              "  </thead>\n",
              "  <tbody>\n",
              "    <tr>\n",
              "      <th>0</th>\n",
              "      <td>1.751472e-20</td>\n",
              "      <td>9.537979e-26</td>\n",
              "      <td>5.458507e-35</td>\n",
              "      <td>1.993629e-30</td>\n",
              "      <td>1.000000e+00</td>\n",
              "      <td>0.0</td>\n",
              "      <td>0.0</td>\n",
              "      <td>4</td>\n",
              "    </tr>\n",
              "    <tr>\n",
              "      <th>1</th>\n",
              "      <td>1.000000e+00</td>\n",
              "      <td>2.666549e-23</td>\n",
              "      <td>0.000000e+00</td>\n",
              "      <td>0.000000e+00</td>\n",
              "      <td>3.897590e-09</td>\n",
              "      <td>0.0</td>\n",
              "      <td>0.0</td>\n",
              "      <td>0</td>\n",
              "    </tr>\n",
              "    <tr>\n",
              "      <th>2</th>\n",
              "      <td>1.000000e+00</td>\n",
              "      <td>0.000000e+00</td>\n",
              "      <td>0.000000e+00</td>\n",
              "      <td>0.000000e+00</td>\n",
              "      <td>0.000000e+00</td>\n",
              "      <td>0.0</td>\n",
              "      <td>0.0</td>\n",
              "      <td>0</td>\n",
              "    </tr>\n",
              "    <tr>\n",
              "      <th>3</th>\n",
              "      <td>0.000000e+00</td>\n",
              "      <td>0.000000e+00</td>\n",
              "      <td>0.000000e+00</td>\n",
              "      <td>0.000000e+00</td>\n",
              "      <td>1.000000e+00</td>\n",
              "      <td>0.0</td>\n",
              "      <td>0.0</td>\n",
              "      <td>4</td>\n",
              "    </tr>\n",
              "    <tr>\n",
              "      <th>4</th>\n",
              "      <td>0.000000e+00</td>\n",
              "      <td>0.000000e+00</td>\n",
              "      <td>0.000000e+00</td>\n",
              "      <td>0.000000e+00</td>\n",
              "      <td>1.000000e+00</td>\n",
              "      <td>0.0</td>\n",
              "      <td>0.0</td>\n",
              "      <td>4</td>\n",
              "    </tr>\n",
              "    <tr>\n",
              "      <th>...</th>\n",
              "      <td>...</td>\n",
              "      <td>...</td>\n",
              "      <td>...</td>\n",
              "      <td>...</td>\n",
              "      <td>...</td>\n",
              "      <td>...</td>\n",
              "      <td>...</td>\n",
              "      <td>...</td>\n",
              "    </tr>\n",
              "    <tr>\n",
              "      <th>1045</th>\n",
              "      <td>1.000000e+00</td>\n",
              "      <td>0.000000e+00</td>\n",
              "      <td>0.000000e+00</td>\n",
              "      <td>0.000000e+00</td>\n",
              "      <td>0.000000e+00</td>\n",
              "      <td>0.0</td>\n",
              "      <td>0.0</td>\n",
              "      <td>0</td>\n",
              "    </tr>\n",
              "    <tr>\n",
              "      <th>1046</th>\n",
              "      <td>1.000000e+00</td>\n",
              "      <td>0.000000e+00</td>\n",
              "      <td>0.000000e+00</td>\n",
              "      <td>0.000000e+00</td>\n",
              "      <td>0.000000e+00</td>\n",
              "      <td>0.0</td>\n",
              "      <td>0.0</td>\n",
              "      <td>0</td>\n",
              "    </tr>\n",
              "    <tr>\n",
              "      <th>1047</th>\n",
              "      <td>1.000000e+00</td>\n",
              "      <td>0.000000e+00</td>\n",
              "      <td>0.000000e+00</td>\n",
              "      <td>0.000000e+00</td>\n",
              "      <td>0.000000e+00</td>\n",
              "      <td>0.0</td>\n",
              "      <td>0.0</td>\n",
              "      <td>0</td>\n",
              "    </tr>\n",
              "    <tr>\n",
              "      <th>1048</th>\n",
              "      <td>1.000000e+00</td>\n",
              "      <td>0.000000e+00</td>\n",
              "      <td>0.000000e+00</td>\n",
              "      <td>0.000000e+00</td>\n",
              "      <td>0.000000e+00</td>\n",
              "      <td>0.0</td>\n",
              "      <td>0.0</td>\n",
              "      <td>0</td>\n",
              "    </tr>\n",
              "    <tr>\n",
              "      <th>1049</th>\n",
              "      <td>2.109940e-20</td>\n",
              "      <td>0.000000e+00</td>\n",
              "      <td>0.000000e+00</td>\n",
              "      <td>1.000000e+00</td>\n",
              "      <td>3.866002e-33</td>\n",
              "      <td>0.0</td>\n",
              "      <td>0.0</td>\n",
              "      <td>3</td>\n",
              "    </tr>\n",
              "  </tbody>\n",
              "</table>\n",
              "<p>1050 rows × 8 columns</p>\n",
              "</div>"
            ],
            "text/plain": [
              "       p(C0|image)   p(C1|image)  ...  p(C6|image)  img_prediction\n",
              "0     1.751472e-20  9.537979e-26  ...          0.0               4\n",
              "1     1.000000e+00  2.666549e-23  ...          0.0               0\n",
              "2     1.000000e+00  0.000000e+00  ...          0.0               0\n",
              "3     0.000000e+00  0.000000e+00  ...          0.0               4\n",
              "4     0.000000e+00  0.000000e+00  ...          0.0               4\n",
              "...            ...           ...  ...          ...             ...\n",
              "1045  1.000000e+00  0.000000e+00  ...          0.0               0\n",
              "1046  1.000000e+00  0.000000e+00  ...          0.0               0\n",
              "1047  1.000000e+00  0.000000e+00  ...          0.0               0\n",
              "1048  1.000000e+00  0.000000e+00  ...          0.0               0\n",
              "1049  2.109940e-20  0.000000e+00  ...          0.0               3\n",
              "\n",
              "[1050 rows x 8 columns]"
            ]
          },
          "metadata": {
            "tags": []
          },
          "execution_count": 23
        }
      ]
    },
    {
      "cell_type": "code",
      "metadata": {
        "id": "CM4bzWzFw8-X",
        "colab_type": "code",
        "colab": {}
      },
      "source": [
        "df_pred_img.to_pickle('/content/drive/My Drive/DS_projet6/CNN_prediction.pkl')"
      ],
      "execution_count": 29,
      "outputs": []
    },
    {
      "cell_type": "code",
      "metadata": {
        "id": "nkvrPTfuWlxm",
        "colab_type": "code",
        "colab": {}
      },
      "source": [
        ""
      ],
      "execution_count": 17,
      "outputs": []
    }
  ]
}